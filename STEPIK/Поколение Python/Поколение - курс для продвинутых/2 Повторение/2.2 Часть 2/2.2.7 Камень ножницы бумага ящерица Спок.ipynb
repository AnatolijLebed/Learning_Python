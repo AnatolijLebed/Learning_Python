{
 "cells": [
  {
   "cell_type": "code",
   "execution_count": null,
   "outputs": [],
   "source": [
    "T, R, = input(), input()\n",
    "rslt = [\"Тимур\", \"Руслан\", \"ничья\"]\n",
    "itms = ['камень', 'ящерица', 'Спок', 'ножницы', 'бумага']\n",
    "if T == R: exit(print(rslt[2]))\n",
    "print(rslt[0] if itms.index(T) - itms.index(R) in (-1, 2) else rslt[1])"
   ],
   "metadata": {
    "collapsed": false,
    "pycharm": {
     "name": "#%%\n"
    }
   }
  }
 ],
 "metadata": {
  "kernelspec": {
   "display_name": "Python 3",
   "language": "python",
   "name": "python3"
  },
  "language_info": {
   "codemirror_mode": {
    "name": "ipython",
    "version": 2
   },
   "file_extension": ".py",
   "mimetype": "text/x-python",
   "name": "python",
   "nbconvert_exporter": "python",
   "pygments_lexer": "ipython2",
   "version": "2.7.6"
  }
 },
 "nbformat": 4,
 "nbformat_minor": 0
}