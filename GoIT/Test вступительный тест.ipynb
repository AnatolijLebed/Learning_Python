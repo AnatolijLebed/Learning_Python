{
 "cells": [
  {
   "cell_type": "code",
   "execution_count": 3,
   "metadata": {
    "collapsed": true,
    "pycharm": {
     "name": "#%%\n"
    }
   },
   "outputs": [
    {
     "name": "stdout",
     "output_type": "stream",
     "text": [
      "0.5\n"
     ]
    }
   ],
   "source": [
    "int_var = 3\n",
    "\n",
    "# return = 3\n",
    "\n",
    "# some-string = 'hello'\n",
    "\n",
    "floatVar = .5\n",
    "\n",
    "# some_string := 'hello'\n",
    "\n",
    "целое_число = 1\n",
    "\n",
    "CONST_VAR = 10.5\n",
    "\n",
    "my_int = 1\n",
    "my_float = 1.0\n",
    "my_complex = 1 + 1j\n",
    "my_bool = 1\n",
    "\n",
    "print(floatVar)"
   ]
  },
  {
   "cell_type": "markdown",
   "source": [
    "Задание\n",
    "1. Создайте список `num_list` и заполните его числами от 0 до 10 по порядку. 2. Добавьте в конец списка `num_list` список` char_list` (Не элементы списка `char_list`, а список, как один элемент, есть результат должен быть - `[0, 1, 2, 3, 4, 5, 6, 7, 8, 9, 10, char_list] '). 3. Отсортируйте `char_list`. 4. Измените порядок элементов в `num_list` на обратный"
   ],
   "metadata": {
    "collapsed": false,
    "pycharm": {
     "name": "#%% md\n"
    }
   }
  },
  {
   "cell_type": "code",
   "execution_count": 12,
   "outputs": [
    {
     "name": "stdout",
     "output_type": "stream",
     "text": [
      "[1, 2, 3, 4, 5, 6, 7, 8, 9, 10, ['z', 'n', 'x']]\n",
      "['n', 'x', 'z']\n",
      "[1, 2, 3, 4, 5, 6, 7, 8, 9, 10, ['n', 'x', 'z']]\n",
      "[['n', 'x', 'z'], 10, 9, 8, 7, 6, 5, 4, 3, 2, 1]\n"
     ]
    }
   ],
   "source": [
    "char_list = ['z', 'n', 'x']\n",
    "num_list = [1, 2, 3, 4, 5, 6, 7, 8, 9, 10]\n",
    "num_list.append(char_list)\n",
    "char_list.sort()\n",
    "num_list.reverse()"
   ],
   "metadata": {
    "collapsed": false,
    "pycharm": {
     "name": "#%%\n"
    }
   }
  },
  {
   "cell_type": "code",
   "execution_count": 13,
   "outputs": [
    {
     "ename": "SyntaxError",
     "evalue": "invalid syntax (3160408312.py, line 1)",
     "output_type": "error",
     "traceback": [
      "\u001B[1;36m  Input \u001B[1;32mIn [13]\u001B[1;36m\u001B[0m\n\u001B[1;33m    user_tuple = `1`, `2.0`\u001B[0m\n\u001B[1;37m                 ^\u001B[0m\n\u001B[1;31mSyntaxError\u001B[0m\u001B[1;31m:\u001B[0m invalid syntax\n"
     ]
    }
   ],
   "source": [
    "user_tuple = '1', '2.0'\n",
    "with_tuple = user_tuple, '3'\n",
    "first, second = with_tuple"
   ],
   "metadata": {
    "collapsed": false,
    "pycharm": {
     "name": "#%%\n"
    }
   }
  },
  {
   "cell_type": "code",
   "execution_count": 1,
   "outputs": [
    {
     "name": "stdout",
     "output_type": "stream",
     "text": [
      "{1: 'first', 2: 'second', 3: 'third', 4: 'fourth', 5: 'fifth'}\n"
     ]
    }
   ],
   "source": [
    "alphabet = {1 : \"first\", 2 : \"second\", 3 : \"third\", 4 : \"fourth\", 5 : \"fifth\"}\n",
    "\n",
    "print(alphabet)"
   ],
   "metadata": {
    "collapsed": false,
    "pycharm": {
     "name": "#%%\n"
    }
   }
  },
  {
   "cell_type": "code",
   "execution_count": 5,
   "outputs": [
    {
     "name": "stdout",
     "output_type": "stream",
     "text": [
      "{1, 2, 3, 4}\n",
      "{'r', 'f', 'g', 'c', 'e', 'b', 'd'}\n"
     ]
    }
   ],
   "source": [
    "chars = 'abcderfgabc'\n",
    "numbers = [1, 2, 3, 1, 2, 3]\n",
    "char_set = set(chars)\n",
    "num_set = set(numbers)\n",
    "num_set.add(4)\n",
    "char_set.remove('a')\n",
    "\n",
    "print(num_set)\n",
    "print(char_set)"
   ],
   "metadata": {
    "collapsed": false,
    "pycharm": {
     "name": "#%%\n"
    }
   }
  },
  {
   "cell_type": "code",
   "execution_count": 7,
   "outputs": [
    {
     "name": "stdout",
     "output_type": "stream",
     "text": [
      "True\n",
      "False\n"
     ]
    }
   ],
   "source": [
    "def invert_bool(val):\n",
    "    return not val\n",
    "\n",
    "var = True\n",
    "print(var)\n",
    "\n",
    "print(invert_bool(var))"
   ],
   "metadata": {
    "collapsed": false,
    "pycharm": {
     "name": "#%%\n"
    }
   }
  },
  {
   "cell_type": "code",
   "execution_count": 11,
   "outputs": [
    {
     "data": {
      "text/plain": "0"
     },
     "execution_count": 11,
     "metadata": {},
     "output_type": "execute_result"
    }
   ],
   "source": [
    "def check_range(val):\n",
    "    if val >= 10:\n",
    "        return 10\n",
    "    elif val >= 5:\n",
    "        return 5\n",
    "    else: return 0\n",
    "\n",
    "\n",
    "check_range(4)"
   ],
   "metadata": {
    "collapsed": false,
    "pycharm": {
     "name": "#%%\n"
    }
   }
  },
  {
   "cell_type": "code",
   "execution_count": 12,
   "outputs": [
    {
     "name": "stdout",
     "output_type": "stream",
     "text": [
      "[0, 2, 4, 6, 8, 10, 12, 14, 16, 18]\n"
     ]
    }
   ],
   "source": [
    "def even(iterable):\n",
    "    return [i for i in iterable if i % 2 == 0]\n",
    "\n",
    "print(even([i for i in range(20)]))"
   ],
   "metadata": {
    "collapsed": false,
    "pycharm": {
     "name": "#%%\n"
    }
   }
  },
  {
   "cell_type": "code",
   "execution_count": 13,
   "outputs": [
    {
     "name": "stdout",
     "output_type": "stream",
     "text": [
      "[0, 5, 10, 15]\n"
     ]
    }
   ],
   "source": [
    "def steps(val, step):\n",
    "    return [i for i in range(0, val, step)]\n",
    "\n",
    "print(steps(20, 5))"
   ],
   "metadata": {
    "collapsed": false,
    "pycharm": {
     "name": "#%%\n"
    }
   }
  }
 ],
 "metadata": {
  "kernelspec": {
   "display_name": "Python 3",
   "language": "python",
   "name": "python3"
  },
  "language_info": {
   "codemirror_mode": {
    "name": "ipython",
    "version": 2
   },
   "file_extension": ".py",
   "mimetype": "text/x-python",
   "name": "python",
   "nbconvert_exporter": "python",
   "pygments_lexer": "ipython2",
   "version": "2.7.6"
  }
 },
 "nbformat": 4,
 "nbformat_minor": 0
}