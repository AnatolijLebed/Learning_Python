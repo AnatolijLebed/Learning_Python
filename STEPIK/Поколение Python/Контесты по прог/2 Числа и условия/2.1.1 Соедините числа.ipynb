{
 "cells": [
  {
   "cell_type": "code",
   "execution_count": 9,
   "metadata": {
    "collapsed": true,
    "pycharm": {
     "name": "#%%\n"
    }
   },
   "outputs": [
    {
     "name": "stdout",
     "output_type": "stream",
     "text": [
      "YES\n"
     ]
    }
   ],
   "source": [
    "number = 83112\n",
    "last = \"\"\n",
    "for i in str(number):\n",
    "    first = i\n",
    "    if last == first:\n",
    "        print(\"YES\")\n",
    "        break\n",
    "    last = first\n",
    "else: print(\"NO\")\n",
    "\n"
   ]
  },
  {
   "cell_type": "code",
   "execution_count": 11,
   "outputs": [
    {
     "name": "stdout",
     "output_type": "stream",
     "text": [
      "NO\n"
     ]
    }
   ],
   "source": [
    "even, odd = 0, 0\n",
    "for i in range(3):\n",
    "    number = int(input())\n",
    "    if number % 2 == 0: even += 1\n",
    "    if number % 2 != 0: odd += 1\n",
    "print(\"YES\" if even < 3 and odd < 3 else \"NO\")\n"
   ],
   "metadata": {
    "collapsed": false,
    "pycharm": {
     "name": "#%%\n"
    }
   }
  },
  {
   "cell_type": "code",
   "execution_count": 18,
   "outputs": [
    {
     "name": "stdout",
     "output_type": "stream",
     "text": [
      "12 5\n"
     ]
    }
   ],
   "source": [
    "time = 0\n",
    "h = 8\n",
    "m = 0\n",
    "for i in range(int(input())):\n",
    "    time += 50\n",
    "time -= 5\n",
    "h += time // 60\n",
    "m = time % 60\n",
    "print(h, m)"
   ],
   "metadata": {
    "collapsed": false,
    "pycharm": {
     "name": "#%%\n"
    }
   }
  },
  {
   "cell_type": "code",
   "execution_count": 24,
   "outputs": [
    {
     "name": "stdout",
     "output_type": "stream",
     "text": [
      "100\n"
     ]
    }
   ],
   "source": [
    "a, b, c, d = [int(input()) for i in range(4)]\n",
    "plus = 0\n",
    "\n",
    "if d <= b:\n",
    "    print(a)\n",
    "elif d > b:\n",
    "    plus = c * (d - b)\n",
    "    print(a + plus)"
   ],
   "metadata": {
    "collapsed": false,
    "pycharm": {
     "name": "#%%\n"
    }
   }
  }
 ],
 "metadata": {
  "kernelspec": {
   "display_name": "Python 3",
   "language": "python",
   "name": "python3"
  },
  "language_info": {
   "codemirror_mode": {
    "name": "ipython",
    "version": 2
   },
   "file_extension": ".py",
   "mimetype": "text/x-python",
   "name": "python",
   "nbconvert_exporter": "python",
   "pygments_lexer": "ipython2",
   "version": "2.7.6"
  }
 },
 "nbformat": 4,
 "nbformat_minor": 0
}