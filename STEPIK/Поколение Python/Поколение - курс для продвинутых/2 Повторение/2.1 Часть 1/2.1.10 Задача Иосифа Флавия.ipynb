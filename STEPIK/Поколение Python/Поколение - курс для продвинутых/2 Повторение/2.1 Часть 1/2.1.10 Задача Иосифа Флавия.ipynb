{
 "cells": [
  {
   "cell_type": "code",
   "execution_count": 23,
   "outputs": [
    {
     "name": "stdout",
     "output_type": "stream",
     "text": [
      "3\n"
     ]
    }
   ],
   "source": [
    "n = 5\n",
    "k = 2\n",
    "people = [i for i in range(1, n + 1)]\n",
    "while len(people) > 1:\n",
    "    for i in range(k - 1):\n",
    "        buf = people[0]\n",
    "        del people[0]\n",
    "        people.append(buf)\n",
    "    del people[0]\n",
    "print(*people)"
   ],
   "metadata": {
    "collapsed": false,
    "pycharm": {
     "name": "#%%\n"
    }
   }
  },
  {
   "cell_type": "code",
   "execution_count": 26,
   "outputs": [
    {
     "name": "stdout",
     "output_type": "stream",
     "text": [
      "42\n"
     ]
    }
   ],
   "source": [
    "n = 100\n",
    "k = 15\n",
    "\n",
    "res = 0\n",
    "for i in range(1, n+1):\n",
    "    res = (res + k) % i\n",
    "print(res + 1)"
   ],
   "metadata": {
    "collapsed": false,
    "pycharm": {
     "name": "#%%\n"
    }
   }
  }
 ],
 "metadata": {
  "kernelspec": {
   "display_name": "Python 3",
   "language": "python",
   "name": "python3"
  },
  "language_info": {
   "codemirror_mode": {
    "name": "ipython",
    "version": 2
   },
   "file_extension": ".py",
   "mimetype": "text/x-python",
   "name": "python",
   "nbconvert_exporter": "python",
   "pygments_lexer": "ipython2",
   "version": "2.7.6"
  }
 },
 "nbformat": 4,
 "nbformat_minor": 0
}