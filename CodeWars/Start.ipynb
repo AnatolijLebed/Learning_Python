{
 "cells": [
  {
   "cell_type": "code",
   "execution_count": 4,
   "metadata": {
    "collapsed": true,
    "pycharm": {
     "name": "#%%\n"
    }
   },
   "outputs": [
    {
     "name": "stdout",
     "output_type": "stream",
     "text": [
      "hello world!\n"
     ]
    }
   ],
   "source": [
    "def greet():\n",
    "    return f'{\"hello world!\"}'\n",
    "\n",
    "\n",
    "print(greet())\n"
   ]
  },
  {
   "cell_type": "code",
   "execution_count": null,
   "outputs": [],
   "source": [
    " '''\n",
    "'　　＊'　　'　★'　　＊'　　'　 ￼\n",
    "＊　.　 * .'　＊＊　　'＊　　　*\n",
    "＊　　.　'　　+:..:+ 　　'　 ' 　＊\n",
    ".　　　＊　　☆☆☆　＊　　　.\n",
    "　　*　　'　+:...+....:+　　＊\n",
    "'　　　　'　☆☆☆☆☆　　　＊　'　　\n",
    "　＊　* '　+:...:+＠+:...:+ 　　　'　　*\n",
    "＊　.　　.☆☆☆☆☆☆☆ ＊　'　*　.\n",
    "　　.　　+:..:+&+:...:+:...:+\n",
    "　*　.　☆☆☆☆☆☆☆☆☆　＊　'　　　*\n",
    "　.　　+:...:+♡+:...:+§+:..:+\n",
    ".　*　☆☆☆☆☆☆☆☆☆☆☆　　'　*\n",
    "　　.+:..:+♡+:..:+@+:..:+♡+:..:+\n",
    "　.　　　　　.　▨ 　 '　' ＊　　　　　*\n",
    "　　　.　*　　　　　　.　　　.　　'''"
   ],
   "metadata": {
    "collapsed": false,
    "pycharm": {
     "name": "#%%\n"
    }
   }
  },
  {
   "cell_type": "code",
   "execution_count": null,
   "outputs": [],
   "source": [
    "def greet():\n",
    "    return \"he%sworld!\" %(\"llo \")"
   ],
   "metadata": {
    "collapsed": false,
    "pycharm": {
     "name": "#%%\n"
    }
   }
  }
 ],
 "metadata": {
  "kernelspec": {
   "display_name": "Python 3",
   "language": "python",
   "name": "python3"
  },
  "language_info": {
   "codemirror_mode": {
    "name": "ipython",
    "version": 2
   },
   "file_extension": ".py",
   "mimetype": "text/x-python",
   "name": "python",
   "nbconvert_exporter": "python",
   "pygments_lexer": "ipython2",
   "version": "2.7.6"
  }
 },
 "nbformat": 4,
 "nbformat_minor": 0
}