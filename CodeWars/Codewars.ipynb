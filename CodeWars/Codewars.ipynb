{
 "cells": [
  {
   "cell_type": "code",
   "execution_count": 2,
   "outputs": [],
   "source": [
    "a = [-2, 2, 6]"
   ],
   "metadata": {
    "collapsed": false,
    "pycharm": {
     "name": "#%%\n"
    }
   }
  },
  {
   "cell_type": "code",
   "execution_count": 11,
   "outputs": [],
   "source": [
    "def accum(s):\n",
    "    result = \"\"\n",
    "    count = 1\n",
    "    for i in s:\n",
    "        result += (i * count + \"-\").capitalize()\n",
    "        count += 1\n",
    "    return result[:-1]"
   ],
   "metadata": {
    "collapsed": false,
    "pycharm": {
     "name": "#%%\n"
    }
   }
  },
  {
   "cell_type": "code",
   "execution_count": null,
   "outputs": [],
   "source": [
    "def accum(s):\n",
    "    n = 0\n",
    "    return [i * (n =+ 1) for i in s n += 1 ]"
   ],
   "metadata": {
    "collapsed": false,
    "pycharm": {
     "name": "#%%\n"
    }
   }
  },
  {
   "cell_type": "code",
   "execution_count": 12,
   "outputs": [
    {
     "name": "stdout",
     "output_type": "stream",
     "text": [
      "A-Bb-Ccc-Dddd\n",
      "R-Qq-Aaa-Eeee-Zzzzz-Tttttt-Yyyyyyy\n",
      "C-Ww-Aaa-Tttt\n"
     ]
    }
   ],
   "source": [
    "print(accum(\"abcd\")) #-> \"A-Bb-Ccc-Dddd\"\n",
    "print(accum(\"RqaEzty\")) #-> \"R-Qq-Aaa-Eeee-Zzzzz-Tttttt-Yyyyyyy\"\n",
    "print(accum(\"cwAt\")) #-> \"C-Ww-Aaa-Tttt\"\n"
   ],
   "metadata": {
    "collapsed": false,
    "pycharm": {
     "name": "#%%\n"
    }
   }
  }
 ],
 "metadata": {
  "kernelspec": {
   "display_name": "Python 3 (ipykernel)",
   "language": "python",
   "name": "python3"
  },
  "language_info": {
   "codemirror_mode": {
    "name": "ipython",
    "version": 3
   },
   "file_extension": ".py",
   "mimetype": "text/x-python",
   "name": "python",
   "nbconvert_exporter": "python",
   "pygments_lexer": "ipython3",
   "version": "3.9.7"
  }
 },
 "nbformat": 4,
 "nbformat_minor": 5
}