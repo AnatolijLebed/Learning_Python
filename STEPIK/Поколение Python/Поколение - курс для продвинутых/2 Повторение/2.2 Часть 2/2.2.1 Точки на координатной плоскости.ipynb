{
 "cells": [
  {
   "cell_type": "code",
   "execution_count": null,
   "metadata": {
    "collapsed": true,
    "pycharm": {
     "name": "#%%\n"
    }
   },
   "outputs": [],
   "source": [
    "for i in range(int(input())):\n",
    "    print(i)"
   ]
  },
  {
   "cell_type": "code",
   "execution_count": 1,
   "outputs": [
    {
     "ename": "NameError",
     "evalue": "name 'plus' is not defined",
     "output_type": "error",
     "traceback": [
      "\u001B[0;31m---------------------------------------------------------------------------\u001B[0m",
      "\u001B[0;31mNameError\u001B[0m                                 Traceback (most recent call last)",
      "Input \u001B[0;32mIn [1]\u001B[0m, in \u001B[0;36m<cell line: 1>\u001B[0;34m()\u001B[0m\n\u001B[0;32m----> 1\u001B[0m plus \u001B[38;5;241m+\u001B[39m\u001B[38;5;241m=\u001B[39m \u001B[38;5;241m8\u001B[39m \u001B[38;5;241m>\u001B[39m \u001B[38;5;241m6\u001B[39m\n\u001B[1;32m      2\u001B[0m \u001B[38;5;28mprint\u001B[39m(plus)\n",
      "\u001B[0;31mNameError\u001B[0m: name 'plus' is not defined"
     ]
    }
   ],
   "source": [
    "fir, sek, thi, fou = 0, 0, 0, 0\n",
    "for i in range(int(input())):\n",
    "    k = [int(i) for i in input().split()]\n",
    "    if k[0] == 0 or k[1] == 0: continue\n",
    "    elif k[0] > 0 and k[1] > 0: fir += 1\n",
    "    elif k[0] < 0 and k[1] > 0: sek += 1\n",
    "    elif k[0] > 0 and k[1] < 0: fou += 1\n",
    "    elif k[0] < 0 and k[1] < 0: thi += 1\n",
    "print(f'Первая четверть: {fir}')\n",
    "print(f'Вторая четверть: {sek}')\n",
    "print(f'Третья четверть: {thi}')\n",
    "print(f'Четвертая четверть: {fou}')"
   ],
   "metadata": {
    "collapsed": false,
    "pycharm": {
     "name": "#%%\n"
    }
   }
  },
  {
   "cell_type": "code",
   "execution_count": 1,
   "outputs": [
    {
     "name": "stdout",
     "output_type": "stream",
     "text": [
      "[0, 0, 0, 0, 4]\n"
     ]
    }
   ],
   "source": [
    "c = 4 * [0] + [int(input())]\n",
    "for _ in range(c[4]):\n",
    "    x, y = map(int, input().split())\n",
    "    c[x < 0 if y > 0 else 2 + (x > 0)] += not 0 in [x, y]\n",
    "[print(f\"{['Первая', 'Вторая', 'Третья', 'Четвертая'][i]} четверть: {c[i]}\") for i in range(4)]"
   ],
   "metadata": {
    "collapsed": false,
    "pycharm": {
     "name": "#%%\n"
    }
   }
  },
  {
   "cell_type": "markdown",
   "source": [
    "i"
   ],
   "metadata": {
    "collapsed": false,
    "pycharm": {
     "name": "#%% md\n"
    }
   }
  }
 ],
 "metadata": {
  "kernelspec": {
   "display_name": "Python 3",
   "language": "python",
   "name": "python3"
  },
  "language_info": {
   "codemirror_mode": {
    "name": "ipython",
    "version": 2
   },
   "file_extension": ".py",
   "mimetype": "text/x-python",
   "name": "python",
   "nbconvert_exporter": "python",
   "pygments_lexer": "ipython2",
   "version": "2.7.6"
  }
 },
 "nbformat": 4,
 "nbformat_minor": 0
}