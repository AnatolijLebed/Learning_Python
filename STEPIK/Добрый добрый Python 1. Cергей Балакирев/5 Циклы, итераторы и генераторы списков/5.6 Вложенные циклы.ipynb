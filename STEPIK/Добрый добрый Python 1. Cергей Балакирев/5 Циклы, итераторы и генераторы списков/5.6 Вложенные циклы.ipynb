{
 "cells": [
  {
   "cell_type": "markdown",
   "id": "49c63c3b-c0ad-41fb-9d14-72b65c8ea7b4",
   "metadata": {},
   "source": [
    "###### Большой подвиг 6.\n",
    "Вводится список целых чисел в одну строку через пробел.\n",
    "Необходимо выполнить его сортировку выбором по возрастанию (неубыванию)."
   ]
  },
  {
   "cell_type": "code",
   "execution_count": 1,
   "id": "c9213e79-0b78-4270-ab7a-384afef3d37b",
   "metadata": {},
   "outputs": [
    {
     "name": "stdin",
     "output_type": "stream",
     "text": [
      " 8 11 -53 2 10 11\n"
     ]
    },
    {
     "name": "stdout",
     "output_type": "stream",
     "text": [
      "-53 2 8 10 11 11\n"
     ]
    }
   ],
   "source": [
    "data = list(map(int, input().split()))\n",
    "\n",
    "for i in range(len(data)):\n",
    "    for j in range(i, len(data)):\n",
    "        if data[i] > data[j]:\n",
    "            data[j], data[i] = data[i], data[j]\n",
    "\n",
    "print(*data)"
   ]
  }
 ],
 "metadata": {
  "kernelspec": {
   "display_name": "Python 3 (ipykernel)",
   "language": "python",
   "name": "python3"
  },
  "language_info": {
   "codemirror_mode": {
    "name": "ipython",
    "version": 3
   },
   "file_extension": ".py",
   "mimetype": "text/x-python",
   "name": "python",
   "nbconvert_exporter": "python",
   "pygments_lexer": "ipython3",
   "version": "3.8.18"
  }
 },
 "nbformat": 4,
 "nbformat_minor": 5
}
