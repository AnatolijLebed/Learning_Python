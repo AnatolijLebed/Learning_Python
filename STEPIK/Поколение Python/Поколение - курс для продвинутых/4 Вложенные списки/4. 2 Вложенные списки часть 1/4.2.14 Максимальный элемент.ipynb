{
 "cells": [
  {
   "cell_type": "markdown",
   "source": [
    "Дополните приведенный код, используя цикл for и встроенную функцию max(), чтобы он выводил один общий максимальный элемент среди всех элементов вложенных списков list1.\n"
   ],
   "metadata": {
    "collapsed": false,
    "pycharm": {
     "name": "#%% md\n"
    }
   }
  },
  {
   "cell_type": "code",
   "execution_count": 2,
   "outputs": [
    {
     "name": "stdout",
     "output_type": "stream",
     "text": [
      "106\n",
      "106\n"
     ]
    }
   ],
   "source": [
    "import re\n",
    "\n",
    "list1 = [[1, 7, 8], [9, 7, 102], [6, 106, 105], [100, 99, 98, 103], [1, 2, 3]]\n",
    "\n",
    "print(max(re.findall(r'\\d+', str(list1)), key=int))\n",
    "print(max(sum(list1, [])))"
   ],
   "metadata": {
    "collapsed": false,
    "pycharm": {
     "name": "#%%\n"
    }
   }
  }
 ],
 "metadata": {
  "kernelspec": {
   "display_name": "Python 3",
   "language": "python",
   "name": "python3"
  },
  "language_info": {
   "codemirror_mode": {
    "name": "ipython",
    "version": 2
   },
   "file_extension": ".py",
   "mimetype": "text/x-python",
   "name": "python",
   "nbconvert_exporter": "python",
   "pygments_lexer": "ipython2",
   "version": "2.7.6"
  }
 },
 "nbformat": 4,
 "nbformat_minor": 0
}