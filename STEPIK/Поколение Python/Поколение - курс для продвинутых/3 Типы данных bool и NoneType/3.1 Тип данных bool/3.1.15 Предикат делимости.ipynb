{
 "cells": [
  {
   "cell_type": "markdown",
   "source": [
    "Предикат делимости\n",
    "\n",
    "Напишите функцию func(num1, num2), принимающую в качестве аргументов два натуральных числа num1 и num2 и возвращающую значение True если число num1 делится без остатка на число num2 и False в противном случае.\n",
    "\n",
    "Результатом вывода программы должно быть \"делится\" (если функция func() вернула True) и \"не делится\" (если функция func() вернула False)."
   ],
   "metadata": {
    "collapsed": false,
    "pycharm": {
     "name": "#%% md\n"
    }
   }
  },
  {
   "cell_type": "code",
   "execution_count": null,
   "outputs": [],
   "source": [
    "def func(num1, num2):\n",
    "    return  bool(num1 % num2)\n",
    "\n",
    "num1, num2 = int(input()), int(input())\n",
    "\n",
    "if func(num1, num2):\n",
    "    print('не делится')\n",
    "else:\n",
    "    print('делится')"
   ],
   "metadata": {
    "collapsed": false,
    "pycharm": {
     "name": "#%%\n"
    }
   }
  }
 ],
 "metadata": {
  "kernelspec": {
   "display_name": "Python 3",
   "language": "python",
   "name": "python3"
  },
  "language_info": {
   "codemirror_mode": {
    "name": "ipython",
    "version": 2
   },
   "file_extension": ".py",
   "mimetype": "text/x-python",
   "name": "python",
   "nbconvert_exporter": "python",
   "pygments_lexer": "ipython2",
   "version": "2.7.6"
  }
 },
 "nbformat": 4,
 "nbformat_minor": 0
}